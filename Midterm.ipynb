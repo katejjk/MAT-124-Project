{
 "cells": [
  {
   "cell_type": "code",
   "execution_count": 1,
   "id": "d5fa009b",
   "metadata": {},
   "outputs": [],
   "source": [
    "import math\n",
    "from matplotlib import pyplot as plt"
   ]
  },
  {
   "cell_type": "markdown",
   "id": "96e0d511",
   "metadata": {},
   "source": [
    "Variables"
   ]
  },
  {
   "cell_type": "code",
   "execution_count": 15,
   "id": "ff41e575",
   "metadata": {},
   "outputs": [],
   "source": [
    "N = 15000"
   ]
  },
  {
   "cell_type": "code",
   "execution_count": 16,
   "id": "c3985965",
   "metadata": {},
   "outputs": [],
   "source": [
    "S = 10000\n",
    "E = 3400\n",
    "I = 1600"
   ]
  },
  {
   "cell_type": "markdown",
   "id": "0007a692",
   "metadata": {},
   "source": [
    "Parameters"
   ]
  },
  {
   "cell_type": "code",
   "execution_count": 17,
   "id": "947f1ab5",
   "metadata": {},
   "outputs": [],
   "source": [
    "a1 = 0.75\n",
    "a2 = 0.75\n",
    "eps = 1/11\n",
    "mu = 1/(8.5*365)\n",
    "b = 0.95\n",
    "Kmi = 18082"
   ]
  },
  {
   "cell_type": "code",
   "execution_count": 18,
   "id": "ff6131ae",
   "metadata": {},
   "outputs": [],
   "source": [
    "data = [(0, S, E, I)]"
   ]
  },
  {
   "cell_type": "markdown",
   "id": "6f39747e",
   "metadata": {},
   "source": [
    "Day One:"
   ]
  },
  {
   "cell_type": "code",
   "execution_count": 19,
   "id": "f9d75f95",
   "metadata": {},
   "outputs": [],
   "source": [
    "S = (S + a1*E + eps*a2*I)*math.pow(math.e, -mu)\n",
    "E = (1 - a1)*E*math.pow(math.e, -mu)\n",
    "I = eps*(1 - a2)*I*math.pow(math.e, -mu)\n",
    "    "
   ]
  },
  {
   "cell_type": "code",
   "execution_count": 20,
   "id": "91a882e8",
   "metadata": {
    "scrolled": true
   },
   "outputs": [],
   "source": [
    "data.append((1, S, E, I))"
   ]
  },
  {
   "cell_type": "code",
   "execution_count": 21,
   "id": "75b109f7",
   "metadata": {},
   "outputs": [
    {
     "data": {
      "text/plain": [
       "[(0, 10000, 3400, 1600),\n",
       " (1, 12655.01127944234, 849.7260715460386, 36.35191749929577)]"
      ]
     },
     "execution_count": 21,
     "metadata": {},
     "output_type": "execute_result"
    }
   ],
   "source": [
    "data"
   ]
  },
  {
   "cell_type": "code",
   "execution_count": null,
   "id": "42685549",
   "metadata": {},
   "outputs": [],
   "source": []
  },
  {
   "cell_type": "code",
   "execution_count": 22,
   "id": "7623bdf6",
   "metadata": {},
   "outputs": [],
   "source": [
    "for i in range(2, 90):\n",
    "    N = S + E + I\n",
    "    if i == 45:\n",
    "        S = (S + 0.5*b*N*(1 - N/Kmi))*math.pow(math.e, -mu)\n",
    "    else:\n",
    "        S = S*math.pow(math.e, -mu)    \n",
    "    E = E*math.pow(math.e, -mu)\n",
    "    I = I*math.pow(math.e, -mu)\n",
    "    data.append((i, S, E, I))\n",
    "    "
   ]
  },
  {
   "cell_type": "code",
   "execution_count": 23,
   "id": "fd4509d4",
   "metadata": {},
   "outputs": [],
   "source": [
    "Is = [x[3] for x in data]\n",
    "Es = [x[2] for x in data]\n",
    "Ss = [x[1] for x in data]\n",
    "Ts = [x[0] for x in data]"
   ]
  },
  {
   "cell_type": "code",
   "execution_count": 24,
   "id": "a6f477db",
   "metadata": {},
   "outputs": [
    {
     "data": {
      "image/png": "[encoded data removed]",
      "text/plain": [
       "<Figure size 432x288 with 1 Axes>"
      ]
     },
     "metadata": {
      "needs_background": "light"
     },
     "output_type": "display_data"
    }
   ],
   "source": [
    "fig, ax = plt.subplots()  # Create a figure containing a single axes.\n",
    "ax.plot(Ts, Is, label='Infected')\n",
    "ax.plot(Ts, Es, label='Exposed')\n",
    "ax.plot(Ts, Ss, label='Susceptible')\n",
    "plt.xlabel('Day')\n",
    "plt.ylabel('Population (Number of Bats)')\n",
    "plt.title(\"Roosting Phase\")\n",
    "plt.legend()\n",
    "plt.savefig('roost.png', dpi=300)"
   ]
  }
 ],
 "metadata": {
  "kernelspec": {
   "display_name": "Python 3 (ipykernel)",
   "language": "python",
   "name": "python3"
  },
  "language_info": {
   "codemirror_mode": {
    "name": "ipython",
    "version": 3
   },
   "file_extension": ".py",
   "mimetype": "text/x-python",
   "name": "python",
   "nbconvert_exporter": "python",
   "pygments_lexer": "ipython3",
   "version": "3.9.10"
  }
 },
 "nbformat": 4,
 "nbformat_minor": 5
}
