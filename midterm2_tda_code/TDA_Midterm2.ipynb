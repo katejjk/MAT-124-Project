{
 "cells": [
  {
   "cell_type": "code",
   "execution_count": 1,
   "id": "9c09a07e",
   "metadata": {},
   "outputs": [],
   "source": [
    "import sys\n",
    "import numpy as np\n",
    "from Bio import SeqIO # Used for reading sequences froms file\n",
    "from ripser import ripser\n",
    "from persim import plot_diagrams\n",
    "import matplotlib.pyplot as plt\n",
    "import gudhi"
   ]
  },
  {
   "cell_type": "code",
   "execution_count": 2,
   "id": "a5e07a2a",
   "metadata": {},
   "outputs": [],
   "source": [
    "records = list(SeqIO.parse(\"sequences.fasta\", \"fasta\"))\n",
    "num_records = len(records)"
   ]
  },
  {
   "cell_type": "code",
   "execution_count": 3,
   "id": "ca6415a0",
   "metadata": {
    "scrolled": true
   },
   "outputs": [
    {
     "name": "stdout",
     "output_type": "stream",
     "text": [
      "CGTCCTACTGATAGTGTGTCCTCCTCGGGAACCAAACCCGGTAAACCAGGAAAGCGGGAGCGTGCTGCGGCTAAGTCCGCAGTTGGAAGTTCGGGTGGACAACCTGGTTCCAGTGCAAAAGCCAAAGCTTTTGCATTCGGCTCAAGTGACCCTGTGCCAATGCCCGGTCAGTTTCCTGTCGTTTTTCAGACAGGTGCTGGTGAACCAACTCGTGATCAGGAGTTTGCCTTAGATACTCCTGAATTGTCCAAACAGTTTCCATCTGTGACGGACCGGTATACTCGTAACCCGAAGTATGCTGAATTTCGAGCCAACGCCCAGCTGACCAATGGGCAGTTTGGAACACATATCAGTGCTGCCTTCTTTCTGCGTTTGGCCCAGCAGATAGTACATTCCCATGTAAATATGGGCCTACCCCAAGGCGATTTCGCACCAATCGCCAGCTCCGACGTTCGTATTCCGGCGGGTCTCGCCTCAATTACGAGCCAATTTGGAGAGTTCTCCTCTCCAACAATCGGAACGCGCTTTCTGCTTCGTGATTACGAAGCAACCGTATCAAAGTTAGTGTTTATCGCTGACAAGATGTGGTCGGAAGGCGCAAACCGTGATATCATTCGGAGATCCTGGTTGCCCATGTCTAGTTCAGACGAGTCAACTAAGGTTTTAGTTGCCGAGGCATTGCTTCGTTTCATTGAAACAGCAGATGTCTCAATCAGTACCAACATCTTGGAAGAAGGTGTGTTATCAGGTACTGTGCCCGATGCTTGGGAGAGCATCAAGAGTGTGCTCGGTGAAGAACCAGCTGCAGGACAAGTTGATAGGCGTGATCGCTTTGATTTCTTGTTCAAAAGTTATGCGGATGTGGGGCAGTTTGTGACAACATTCTCCTCCACTGCATCAGCTGCCGTCCTCGACGAACTCGACCTTGACTGGGTTAGCCCTTCAGCTGGGCACCTTGATTGGTCATACTCCCCGGAAACGAGGTTTTCATATCTCGCAGATCCGTGGGCAAAACTGAGTGCGGCATATGCTCAGTTCTTCGAACTGTCGTCTGGTCAGGCAACCAGACAGGCCGCAACCGGAAGTCA\n"
     ]
    }
   ],
   "source": [
    "print(records[0].seq)"
   ]
  },
  {
   "cell_type": "code",
   "execution_count": 5,
   "id": "592cd0b3",
   "metadata": {},
   "outputs": [],
   "source": [
    "seq_strings = [record.seq for record in records]"
   ]
  },
  {
   "cell_type": "code",
   "execution_count": 6,
   "id": "775686e7",
   "metadata": {},
   "outputs": [
    {
     "data": {
      "text/plain": [
       "Bio.Seq.Seq"
      ]
     },
     "execution_count": 6,
     "metadata": {},
     "output_type": "execute_result"
    }
   ],
   "source": [
    "type(seq_strings[0])"
   ]
  },
  {
   "cell_type": "markdown",
   "id": "fe581892",
   "metadata": {},
   "source": [
    "## Basic Distance Matrix Created with Hamming Distances"
   ]
  },
  {
   "cell_type": "code",
   "execution_count": 7,
   "id": "fde0a52e",
   "metadata": {},
   "outputs": [],
   "source": [
    "# Otherwise known as the \"p-distance\"\n",
    "def hamming(seq_a: str, seq_b: str) -> float:\n",
    "    n = len(seq_a)\n",
    "    nd = 0 # Number of differences\n",
    "    for nucleo_a, nucleo_b in zip(seq_a, seq_b):\n",
    "        if nucleo_a != nucleo_b:\n",
    "            nd += 1\n",
    "    return nd/n # Normalized\n",
    "    "
   ]
  },
  {
   "cell_type": "code",
   "execution_count": 8,
   "id": "604566dc",
   "metadata": {},
   "outputs": [
    {
     "data": {
      "text/plain": [
       "94"
      ]
     },
     "execution_count": 8,
     "metadata": {},
     "output_type": "execute_result"
    }
   ],
   "source": [
    "len(seq_strings)"
   ]
  },
  {
   "cell_type": "code",
   "execution_count": 9,
   "id": "a13a2f0a",
   "metadata": {},
   "outputs": [],
   "source": [
    "# Make an upper-triangular distance matrix\n",
    "basic_matrix = np.zeros((num_records, num_records))\n",
    "for i, seq1 in enumerate(seq_strings):\n",
    "    for j, seq2 in enumerate(seq_strings[i:]):\n",
    "        basic_matrix[i, j + i] = hamming(seq1, seq2)"
   ]
  },
  {
   "cell_type": "code",
   "execution_count": 10,
   "id": "8abf33c1",
   "metadata": {
    "scrolled": true
   },
   "outputs": [
    {
     "data": {
      "image/png": "[encoded data removed]",
      "text/plain": [
       "<Figure size 432x288 with 1 Axes>"
      ]
     },
     "metadata": {
      "needs_background": "light"
     },
     "output_type": "display_data"
    },
    {
     "data": {
      "text/plain": [
       "<Figure size 640x480 with 0 Axes>"
      ]
     },
     "metadata": {},
     "output_type": "display_data"
    }
   ],
   "source": [
    "diagram_hamming = ripser(basic_matrix, maxdim=1, distance_matrix=True, do_cocycles=True)\n",
    "plot_diagrams(diagram_hamming['dgms'], show=True)\n",
    "plt.savefig('persist_dia.png')"
   ]
  },
  {
   "cell_type": "code",
   "execution_count": 11,
   "id": "388abdcf",
   "metadata": {},
   "outputs": [
    {
     "data": {
      "text/plain": [
       "[array([[0.        , 0.00091912],\n",
       "        [0.        , 0.00091912],\n",
       "        [0.        , 0.00091912],\n",
       "        [0.        , 0.00091912],\n",
       "        [0.        , 0.00091912],\n",
       "        [0.        , 0.00091912],\n",
       "        [0.        , 0.00091912],\n",
       "        [0.        , 0.00091912],\n",
       "        [0.        , 0.00091912],\n",
       "        [0.        , 0.00091912],\n",
       "        [0.        , 0.00091912],\n",
       "        [0.        , 0.00183824],\n",
       "        [0.        , 0.00183824],\n",
       "        [0.        , 0.00183824],\n",
       "        [0.        , 0.00183824],\n",
       "        [0.        , 0.00183824],\n",
       "        [0.        , 0.00183824],\n",
       "        [0.        , 0.00183824],\n",
       "        [0.        , 0.00275735],\n",
       "        [0.        , 0.00275735],\n",
       "        [0.        , 0.00275735],\n",
       "        [0.        , 0.00275735],\n",
       "        [0.        , 0.00275735],\n",
       "        [0.        , 0.00275735],\n",
       "        [0.        , 0.00367647],\n",
       "        [0.        , 0.00367647],\n",
       "        [0.        , 0.00367647],\n",
       "        [0.        , 0.00367647],\n",
       "        [0.        , 0.00367647],\n",
       "        [0.        , 0.00367647],\n",
       "        [0.        , 0.00367647],\n",
       "        [0.        , 0.00367647],\n",
       "        [0.        , 0.00367647],\n",
       "        [0.        , 0.00459559],\n",
       "        [0.        , 0.00459559],\n",
       "        [0.        , 0.00459559],\n",
       "        [0.        , 0.00459559],\n",
       "        [0.        , 0.00459559],\n",
       "        [0.        , 0.00459559],\n",
       "        [0.        , 0.00459559],\n",
       "        [0.        , 0.00551471],\n",
       "        [0.        , 0.00551471],\n",
       "        [0.        , 0.00551471],\n",
       "        [0.        , 0.00551471],\n",
       "        [0.        , 0.00551471],\n",
       "        [0.        , 0.00551471],\n",
       "        [0.        , 0.00551471],\n",
       "        [0.        , 0.00551471],\n",
       "        [0.        , 0.00551471],\n",
       "        [0.        , 0.00551471],\n",
       "        [0.        , 0.00643382],\n",
       "        [0.        , 0.00643382],\n",
       "        [0.        , 0.00643382],\n",
       "        [0.        , 0.00643382],\n",
       "        [0.        , 0.00643382],\n",
       "        [0.        , 0.00643382],\n",
       "        [0.        , 0.00735294],\n",
       "        [0.        , 0.00735294],\n",
       "        [0.        , 0.00735294],\n",
       "        [0.        , 0.00735294],\n",
       "        [0.        , 0.00735294],\n",
       "        [0.        , 0.00827206],\n",
       "        [0.        , 0.00827206],\n",
       "        [0.        , 0.00919118],\n",
       "        [0.        , 0.00919118],\n",
       "        [0.        , 0.01011029],\n",
       "        [0.        , 0.01011029],\n",
       "        [0.        , 0.01011029],\n",
       "        [0.        , 0.01011029],\n",
       "        [0.        , 0.01011029],\n",
       "        [0.        , 0.01102941],\n",
       "        [0.        , 0.01286765],\n",
       "        [0.        , 0.01286765],\n",
       "        [0.        , 0.01286765],\n",
       "        [0.        , 0.01378676],\n",
       "        [0.        , 0.01470588],\n",
       "        [0.        , 0.015625  ],\n",
       "        [0.        , 0.01654412],\n",
       "        [0.        , 0.01746324],\n",
       "        [0.        , 0.01838235],\n",
       "        [0.        , 0.01930147],\n",
       "        [0.        , 0.01930147],\n",
       "        [0.        , 0.02113971],\n",
       "        [0.        , 0.02205882],\n",
       "        [0.        , 0.02297794],\n",
       "        [0.        , 0.03033088],\n",
       "        [0.        , 0.03308824],\n",
       "        [0.        , 0.05055147],\n",
       "        [0.        , 0.09208103],\n",
       "        [0.        ,        inf]]),\n",
       " array([[0.00827206, 0.00919118],\n",
       "        [0.00735294, 0.00827206],\n",
       "        [0.00735294, 0.00827206],\n",
       "        [0.00367647, 0.00459559],\n",
       "        [0.00091912, 0.00183824]])]"
      ]
     },
     "execution_count": 11,
     "metadata": {},
     "output_type": "execute_result"
    }
   ],
   "source": [
    "diagram_hamming['dgms']"
   ]
  },
  {
   "cell_type": "code",
   "execution_count": 12,
   "id": "51573a84",
   "metadata": {},
   "outputs": [],
   "source": [
    "H0 = [(0, (birth, death)) for birth, death in diagram_hamming['dgms'][0]]\n",
    "H1 = [(1, (birth, death)) for birth, death in diagram_hamming['dgms'][1]]\n",
    "hamming_barcode = H0 + H1"
   ]
  },
  {
   "cell_type": "markdown",
   "id": "008ea12f",
   "metadata": {},
   "source": [
    "### H0 and H1 plotted together"
   ]
  },
  {
   "cell_type": "code",
   "execution_count": 13,
   "id": "548b3be9",
   "metadata": {},
   "outputs": [
    {
     "data": {
      "image/png": "[encoded data removed]",
      "text/plain": [
       "<Figure size 640x480 with 1 Axes>"
      ]
     },
     "metadata": {},
     "output_type": "display_data"
    }
   ],
   "source": [
    "gudhi.plot_persistence_barcode(hamming_barcode)\n",
    "plt.show()"
   ]
  },
  {
   "cell_type": "code",
   "execution_count": 14,
   "id": "f18465a0",
   "metadata": {
    "scrolled": true
   },
   "outputs": [
    {
     "data": {
      "image/png": "[encoded data removed]",
      "text/plain": [
       "<Figure size 640x480 with 1 Axes>"
      ]
     },
     "metadata": {},
     "output_type": "display_data"
    }
   ],
   "source": [
    "gudhi.plot_persistence_barcode(diagram_hamming['dgms'][1])\n",
    "plt.show()"
   ]
  },
  {
   "cell_type": "code",
   "execution_count": 15,
   "id": "44e2fa50",
   "metadata": {},
   "outputs": [
    {
     "data": {
      "text/plain": [
       "[array([[17,  0,  1]]),\n",
       " array([[ 9,  1,  1],\n",
       "        [10,  1,  1]]),\n",
       " array([[24, 11,  1],\n",
       "        [23, 11,  1],\n",
       "        [20, 11,  1]]),\n",
       " array([[38, 35,  1],\n",
       "        [39, 35,  1]]),\n",
       " array([[27, 20,  1]])]"
      ]
     },
     "execution_count": 15,
     "metadata": {},
     "output_type": "execute_result"
    }
   ],
   "source": [
    "r = ripser(basic_matrix, maxdim=1, distance_matrix=True, do_cocycles=True)\n",
    "#cocycles = r['cocycles']\n",
    "#D = r['dperm2all']\n",
    "r['cocycles'][1]"
   ]
  },
  {
   "cell_type": "code",
   "execution_count": 19,
   "id": "db2e5235",
   "metadata": {
    "scrolled": true
   },
   "outputs": [
    {
     "data": {
      "image/png": "[encoded data removed]",
      "text/plain": [
       "<Figure size 640x480 with 1 Axes>"
      ]
     },
     "metadata": {},
     "output_type": "display_data"
    }
   ],
   "source": [
    "diagrams = r['dgms']\n",
    "dgm1 = diagrams[1]\n",
    "idx = np.argmax(dgm1[:, 1] - dgm1[:, 0])\n",
    "plot_diagrams(diagrams, show = False)\n",
    "plt.scatter(dgm1[idx, 0], dgm1[idx, 1], 20, 'k', 'x')\n",
    "plt.title(\"Max 1D birth = %.3g, death = %.3g\"%(dgm1[idx, 0], dgm1[idx, 1]))\n",
    "plt.savefig('persist_dia.png')"
   ]
  },
  {
   "cell_type": "code",
   "execution_count": 16,
   "id": "b528a0b2",
   "metadata": {},
   "outputs": [
    {
     "data": {
      "text/plain": [
       "{'dgms': [array([[0.        , 0.00091912],\n",
       "         [0.        , 0.00091912],\n",
       "         [0.        , 0.00091912],\n",
       "         [0.        , 0.00091912],\n",
       "         [0.        , 0.00091912],\n",
       "         [0.        , 0.00091912],\n",
       "         [0.        , 0.00091912],\n",
       "         [0.        , 0.00091912],\n",
       "         [0.        , 0.00091912],\n",
       "         [0.        , 0.00091912],\n",
       "         [0.        , 0.00091912],\n",
       "         [0.        , 0.00183824],\n",
       "         [0.        , 0.00183824],\n",
       "         [0.        , 0.00183824],\n",
       "         [0.        , 0.00183824],\n",
       "         [0.        , 0.00183824],\n",
       "         [0.        , 0.00183824],\n",
       "         [0.        , 0.00183824],\n",
       "         [0.        , 0.00275735],\n",
       "         [0.        , 0.00275735],\n",
       "         [0.        , 0.00275735],\n",
       "         [0.        , 0.00275735],\n",
       "         [0.        , 0.00275735],\n",
       "         [0.        , 0.00275735],\n",
       "         [0.        , 0.00367647],\n",
       "         [0.        , 0.00367647],\n",
       "         [0.        , 0.00367647],\n",
       "         [0.        , 0.00367647],\n",
       "         [0.        , 0.00367647],\n",
       "         [0.        , 0.00367647],\n",
       "         [0.        , 0.00367647],\n",
       "         [0.        , 0.00367647],\n",
       "         [0.        , 0.00367647],\n",
       "         [0.        , 0.00459559],\n",
       "         [0.        , 0.00459559],\n",
       "         [0.        , 0.00459559],\n",
       "         [0.        , 0.00459559],\n",
       "         [0.        , 0.00459559],\n",
       "         [0.        , 0.00459559],\n",
       "         [0.        , 0.00459559],\n",
       "         [0.        , 0.00551471],\n",
       "         [0.        , 0.00551471],\n",
       "         [0.        , 0.00551471],\n",
       "         [0.        , 0.00551471],\n",
       "         [0.        , 0.00551471],\n",
       "         [0.        , 0.00551471],\n",
       "         [0.        , 0.00551471],\n",
       "         [0.        , 0.00551471],\n",
       "         [0.        , 0.00551471],\n",
       "         [0.        , 0.00551471],\n",
       "         [0.        , 0.00643382],\n",
       "         [0.        , 0.00643382],\n",
       "         [0.        , 0.00643382],\n",
       "         [0.        , 0.00643382],\n",
       "         [0.        , 0.00643382],\n",
       "         [0.        , 0.00643382],\n",
       "         [0.        , 0.00735294],\n",
       "         [0.        , 0.00735294],\n",
       "         [0.        , 0.00735294],\n",
       "         [0.        , 0.00735294],\n",
       "         [0.        , 0.00735294],\n",
       "         [0.        , 0.00827206],\n",
       "         [0.        , 0.00827206],\n",
       "         [0.        , 0.00919118],\n",
       "         [0.        , 0.00919118],\n",
       "         [0.        , 0.01011029],\n",
       "         [0.        , 0.01011029],\n",
       "         [0.        , 0.01011029],\n",
       "         [0.        , 0.01011029],\n",
       "         [0.        , 0.01011029],\n",
       "         [0.        , 0.01102941],\n",
       "         [0.        , 0.01286765],\n",
       "         [0.        , 0.01286765],\n",
       "         [0.        , 0.01286765],\n",
       "         [0.        , 0.01378676],\n",
       "         [0.        , 0.01470588],\n",
       "         [0.        , 0.015625  ],\n",
       "         [0.        , 0.01654412],\n",
       "         [0.        , 0.01746324],\n",
       "         [0.        , 0.01838235],\n",
       "         [0.        , 0.01930147],\n",
       "         [0.        , 0.01930147],\n",
       "         [0.        , 0.02113971],\n",
       "         [0.        , 0.02205882],\n",
       "         [0.        , 0.02297794],\n",
       "         [0.        , 0.03033088],\n",
       "         [0.        , 0.03308824],\n",
       "         [0.        , 0.05055147],\n",
       "         [0.        , 0.09208103],\n",
       "         [0.        ,        inf]]),\n",
       "  array([[0.00827206, 0.00919118],\n",
       "         [0.00735294, 0.00827206],\n",
       "         [0.00735294, 0.00827206],\n",
       "         [0.00367647, 0.00459559],\n",
       "         [0.00091912, 0.00183824]])],\n",
       " 'cocycles': [[],\n",
       "  [array([[17,  0,  1]]), array([[ 9,  1,  1],\n",
       "          [10,  1,  1]]), array([[24, 11,  1],\n",
       "          [23, 11,  1],\n",
       "          [20, 11,  1]]), array([[38, 35,  1],\n",
       "          [39, 35,  1]]), array([[27, 20,  1]])]],\n",
       " 'num_edges': 4279,\n",
       " 'dperm2all': array([[0.        , 0.01930147, 0.01470588, ..., 0.03492647, 0.05698529,\n",
       "         0.04779412],\n",
       "        [0.        , 0.        , 0.00643382, ..., 0.03584559, 0.05422794,\n",
       "         0.04503676],\n",
       "        [0.        , 0.        , 0.        , ..., 0.03125   , 0.05147059,\n",
       "         0.04136029],\n",
       "        ...,\n",
       "        [0.        , 0.        , 0.        , ..., 0.        , 0.07352941,\n",
       "         0.05882353],\n",
       "        [0.        , 0.        , 0.        , ..., 0.        , 0.        ,\n",
       "         0.08363971],\n",
       "        [0.        , 0.        , 0.        , ..., 0.        , 0.        ,\n",
       "         0.        ]]),\n",
       " 'idx_perm': array([ 0,  1,  2,  3,  4,  5,  6,  7,  8,  9, 10, 11, 12, 13, 14, 15, 16,\n",
       "        17, 18, 19, 20, 21, 22, 23, 24, 25, 26, 27, 28, 29, 30, 31, 32, 33,\n",
       "        34, 35, 36, 37, 38, 39, 40, 41, 42, 43, 44, 45, 46, 47, 48, 49, 50,\n",
       "        51, 52, 53, 54, 55, 56, 57, 58, 59, 60, 61, 62, 63, 64, 65, 66, 67,\n",
       "        68, 69, 70, 71, 72, 73, 74, 75, 76, 77, 78, 79, 80, 81, 82, 83, 84,\n",
       "        85, 86, 87, 88, 89, 90, 91, 92, 93]),\n",
       " 'r_cover': 0.0}"
      ]
     },
     "execution_count": 16,
     "metadata": {},
     "output_type": "execute_result"
    }
   ],
   "source": [
    "r"
   ]
  },
  {
   "cell_type": "markdown",
   "id": "30e94a7b",
   "metadata": {},
   "source": [
    "## Tamura-Nei Distances Matrix:"
   ]
  },
  {
   "cell_type": "code",
   "execution_count": 17,
   "id": "d4e8f651",
   "metadata": {},
   "outputs": [],
   "source": [
    "# Clone https://github.com/sdwfrost/libtn93 into current directory\n",
    "sys.path.append(\"./libtn93/python\") \n",
    "from tn93 import tn93\n",
    "\n",
    "t_nei_matrix = np.zeros((num_records, num_records))\n",
    "for i, seq1 in enumerate(seq_strings):\n",
    "    for j, seq2 in enumerate(seq_strings[i:]):\n",
    "        t_nei_matrix[i, j + i] = tn93(str(seq1), str(seq2), len(seq1), 0, 100)"
   ]
  },
  {
   "cell_type": "code",
   "execution_count": 47,
   "id": "c8a3a312",
   "metadata": {
    "scrolled": true
   },
   "outputs": [
    {
     "data": {
      "image/png": "[encoded data removed]",
      "text/plain": [
       "<Figure size 640x480 with 1 Axes>"
      ]
     },
     "metadata": {},
     "output_type": "display_data"
    }
   ],
   "source": [
    "diagram_tamura_nei = ripser(t_nei_matrix, distance_matrix=True, do_cocycles=True)\n",
    "plot_diagrams(diagram_tamura_nei['dgms'], show=True)\n",
    "plt.show()"
   ]
  },
  {
   "cell_type": "code",
   "execution_count": 19,
   "id": "76691f03",
   "metadata": {},
   "outputs": [
    {
     "data": {
      "text/plain": [
       "{'dgms': [array([[0.        , 0.00091975],\n",
       "         [0.        , 0.00091975],\n",
       "         [0.        , 0.00091975],\n",
       "         [0.        , 0.00091975],\n",
       "         [0.        , 0.00091975],\n",
       "         [0.        , 0.00091975],\n",
       "         [0.        , 0.00091975],\n",
       "         [0.        , 0.00091975],\n",
       "         [0.        , 0.00092085],\n",
       "         [0.        , 0.00092085],\n",
       "         [0.        , 0.00092086],\n",
       "         [0.        , 0.00184078],\n",
       "         [0.        , 0.00184078],\n",
       "         [0.        , 0.00184078],\n",
       "         [0.        , 0.00184136],\n",
       "         [0.        , 0.00184148],\n",
       "         [0.        , 0.00184163],\n",
       "         [0.        , 0.00184515],\n",
       "         [0.        , 0.00276308],\n",
       "         [0.        , 0.00276308],\n",
       "         [0.        , 0.00276308],\n",
       "         [0.        , 0.00276323],\n",
       "         [0.        , 0.00276333],\n",
       "         [0.        , 0.00276663],\n",
       "         [0.        , 0.0036858 ],\n",
       "         [0.        , 0.0036858 ],\n",
       "         [0.        , 0.00368637],\n",
       "         [0.        , 0.00368637],\n",
       "         [0.        , 0.0036864 ],\n",
       "         [0.        , 0.00368651],\n",
       "         [0.        , 0.00368666],\n",
       "         [0.        , 0.00368666],\n",
       "         [0.        , 0.00368833],\n",
       "         [0.        , 0.00460981],\n",
       "         [0.        , 0.00461076],\n",
       "         [0.        , 0.00461079],\n",
       "         [0.        , 0.00461096],\n",
       "         [0.        , 0.00461152],\n",
       "         [0.        , 0.00461155],\n",
       "         [0.        , 0.00461642],\n",
       "         [0.        , 0.00553509],\n",
       "         [0.        , 0.0055367 ],\n",
       "         [0.        , 0.00553672],\n",
       "         [0.        , 0.00553673],\n",
       "         [0.        , 0.00553679],\n",
       "         [0.        , 0.00553768],\n",
       "         [0.        , 0.00553769],\n",
       "         [0.        , 0.00553769],\n",
       "         [0.        , 0.00554155],\n",
       "         [0.        , 0.00554294],\n",
       "         [0.        , 0.00646257],\n",
       "         [0.        , 0.00646286],\n",
       "         [0.        , 0.0064635 ],\n",
       "         [0.        , 0.00646725],\n",
       "         [0.        , 0.00646728],\n",
       "         [0.        , 0.00648672],\n",
       "         [0.        , 0.00739004],\n",
       "         [0.        , 0.00739263],\n",
       "         [0.        , 0.00739263],\n",
       "         [0.        , 0.00739386],\n",
       "         [0.        , 0.00739436],\n",
       "         [0.        , 0.00832181],\n",
       "         [0.        , 0.00833337],\n",
       "         [0.        , 0.00924871],\n",
       "         [0.        , 0.00925314],\n",
       "         [0.        , 0.01018091],\n",
       "         [0.        , 0.01018319],\n",
       "         [0.        , 0.01018482],\n",
       "         [0.        , 0.01019779],\n",
       "         [0.        , 0.01022017],\n",
       "         [0.        , 0.0111298 ],\n",
       "         [0.        , 0.01298063],\n",
       "         [0.        , 0.01298407],\n",
       "         [0.        , 0.01299973],\n",
       "         [0.        , 0.01391879],\n",
       "         [0.        , 0.01485506],\n",
       "         [0.        , 0.01579102],\n",
       "         [0.        , 0.01673659],\n",
       "         [0.        , 0.01769423],\n",
       "         [0.        , 0.01861558],\n",
       "         [0.        , 0.01955741],\n",
       "         [0.        , 0.01955842],\n",
       "         [0.        , 0.02144957],\n",
       "         [0.        , 0.02239741],\n",
       "         [0.        , 0.02333775],\n",
       "         [0.        , 0.03096496],\n",
       "         [0.        , 0.03384176],\n",
       "         [0.        , 0.05239468],\n",
       "         [0.        , 0.09829592],\n",
       "         [0.        ,        inf]]),\n",
       "  array([[0.00832187, 0.00925266],\n",
       "         [0.00739648, 0.00832519],\n",
       "         [0.00739172, 0.00831867],\n",
       "         [0.00368826, 0.00460981],\n",
       "         [0.00092085, 0.00184147]])],\n",
       " 'cocycles': [[],\n",
       "  [array([[17,  0,  1]]),\n",
       "   array([[9, 1, 1]]),\n",
       "   array([[24, 11,  1]]),\n",
       "   array([[39, 36,  1],\n",
       "          [39, 37,  1]]),\n",
       "   array([[27, 20,  1]])]],\n",
       " 'num_edges': 4279,\n",
       " 'dperm2all': array([[0.        , 0.01956694, 0.01486046, ..., 0.03576863, 0.0592749 ,\n",
       "         0.04941705],\n",
       "        [0.        , 0.        , 0.00646906, ..., 0.03673411, 0.05629165,\n",
       "         0.04645122],\n",
       "        [0.        , 0.        , 0.        , ..., 0.03192148, 0.05332717,\n",
       "         0.0425588 ],\n",
       "        ...,\n",
       "        [0.        , 0.        , 0.        , ..., 0.        , 0.07743181,\n",
       "         0.06129846],\n",
       "        [0.        , 0.        , 0.        , ..., 0.        , 0.        ,\n",
       "         0.08879629],\n",
       "        [0.        , 0.        , 0.        , ..., 0.        , 0.        ,\n",
       "         0.        ]]),\n",
       " 'idx_perm': array([ 0,  1,  2,  3,  4,  5,  6,  7,  8,  9, 10, 11, 12, 13, 14, 15, 16,\n",
       "        17, 18, 19, 20, 21, 22, 23, 24, 25, 26, 27, 28, 29, 30, 31, 32, 33,\n",
       "        34, 35, 36, 37, 38, 39, 40, 41, 42, 43, 44, 45, 46, 47, 48, 49, 50,\n",
       "        51, 52, 53, 54, 55, 56, 57, 58, 59, 60, 61, 62, 63, 64, 65, 66, 67,\n",
       "        68, 69, 70, 71, 72, 73, 74, 75, 76, 77, 78, 79, 80, 81, 82, 83, 84,\n",
       "        85, 86, 87, 88, 89, 90, 91, 92, 93]),\n",
       " 'r_cover': 0.0}"
      ]
     },
     "execution_count": 19,
     "metadata": {},
     "output_type": "execute_result"
    }
   ],
   "source": [
    "diagram_tamura_nei"
   ]
  },
  {
   "cell_type": "code",
   "execution_count": 20,
   "id": "3ee5ad3e",
   "metadata": {},
   "outputs": [],
   "source": [
    "H0_tn = [(0, (birth, death)) for birth, death in diagram_tamura_nei['dgms'][0]]\n",
    "H1_tn = [(1, (birth, death)) for birth, death in diagram_tamura_nei['dgms'][1]]\n",
    "tamura_nei_barcode = H0_tn + H1_tn"
   ]
  },
  {
   "cell_type": "code",
   "execution_count": 21,
   "id": "dcd6a9c3",
   "metadata": {},
   "outputs": [
    {
     "data": {
      "image/png": "[encoded data removed]",
      "text/plain": [
       "<Figure size 640x480 with 1 Axes>"
      ]
     },
     "metadata": {},
     "output_type": "display_data"
    }
   ],
   "source": [
    "# H0 and H1 plotted together\n",
    "gudhi.plot_persistence_barcode(tamura_nei_barcode)\n",
    "plt.show()"
   ]
  },
  {
   "cell_type": "code",
   "execution_count": 22,
   "id": "3d8e9142",
   "metadata": {
    "scrolled": true
   },
   "outputs": [
    {
     "data": {
      "text/plain": [
       "<AxesSubplot:title={'center':'Persistence barcode'}>"
      ]
     },
     "execution_count": 22,
     "metadata": {},
     "output_type": "execute_result"
    },
    {
     "data": {
      "image/png": "[encoded data removed]",
      "text/plain": [
       "<Figure size 640x480 with 1 Axes>"
      ]
     },
     "metadata": {},
     "output_type": "display_data"
    }
   ],
   "source": [
    "blue = ((0.21568627450980393, 0.49411764705882355, 0.7215686274509804), (0, 0, 0))\n",
    "gudhi.plot_persistence_barcode(diagram_tamura_nei['dgms'][1], colormap=blue)\n"
   ]
  },
  {
   "cell_type": "code",
   "execution_count": 23,
   "id": "251b5572",
   "metadata": {},
   "outputs": [
    {
     "data": {
      "text/plain": [
       "(0.21568627450980393, 0.49411764705882355, 0.7215686274509804)"
      ]
     },
     "execution_count": 23,
     "metadata": {},
     "output_type": "execute_result"
    }
   ],
   "source": [
    "import matplotlib\n",
    "matplotlib.cm.Set1.colors[1]"
   ]
  },
  {
   "cell_type": "code",
   "execution_count": 48,
   "id": "22065dbb",
   "metadata": {},
   "outputs": [],
   "source": [
    "np.savetxt('matrix', basic_matrix, fmt='%.20f', delimiter=', ')"
   ]
  },
  {
   "cell_type": "code",
   "execution_count": 39,
   "id": "c216c555",
   "metadata": {},
   "outputs": [
    {
     "data": {
      "text/plain": [
       "array([[0.        , 0.01930147, 0.01470588, ..., 0.03492647, 0.05698529,\n",
       "        0.04779412],\n",
       "       [0.        , 0.        , 0.00643382, ..., 0.03584559, 0.05422794,\n",
       "        0.04503676],\n",
       "       [0.        , 0.        , 0.        , ..., 0.03125   , 0.05147059,\n",
       "        0.04136029],\n",
       "       ...,\n",
       "       [0.        , 0.        , 0.        , ..., 0.        , 0.07352941,\n",
       "        0.05882353],\n",
       "       [0.        , 0.        , 0.        , ..., 0.        , 0.        ,\n",
       "        0.08363971],\n",
       "       [0.        , 0.        , 0.        , ..., 0.        , 0.        ,\n",
       "        0.        ]])"
      ]
     },
     "execution_count": 39,
     "metadata": {},
     "output_type": "execute_result"
    }
   ],
   "source": [
    "basic_matrix"
   ]
  }
 ],
 "metadata": {
  "kernelspec": {
   "display_name": "Python 3 (ipykernel)",
   "language": "python",
   "name": "python3"
  },
  "language_info": {
   "codemirror_mode": {
    "name": "ipython",
    "version": 3
   },
   "file_extension": ".py",
   "mimetype": "text/x-python",
   "name": "python",
   "nbconvert_exporter": "python",
   "pygments_lexer": "ipython3",
   "version": "3.9.10"
  }
 },
 "nbformat": 4,
 "nbformat_minor": 5
}
